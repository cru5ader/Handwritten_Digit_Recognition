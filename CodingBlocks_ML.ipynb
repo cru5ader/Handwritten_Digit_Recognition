{
 "cells": [
  {
   "cell_type": "code",
   "execution_count": 1,
   "metadata": {},
   "outputs": [
    {
     "data": {
      "text/plain": [
       "[10, 20]"
      ]
     },
     "execution_count": 1,
     "metadata": {},
     "output_type": "execute_result"
    }
   ],
   "source": [
    "prices = {\n",
    "    \"mango\": 100,\n",
    "    \"banana\":[10,20],\n",
    "    \"pineapple\":200\n",
    "}\n",
    "prices[\"banana\"]"
   ]
  },
  {
   "cell_type": "code",
   "execution_count": 2,
   "metadata": {},
   "outputs": [
    {
     "name": "stdout",
     "output_type": "stream",
     "text": [
      "100\n"
     ]
    }
   ],
   "source": [
    "print (prices[\"mango\"])"
   ]
  },
  {
   "cell_type": "code",
   "execution_count": 3,
   "metadata": {},
   "outputs": [
    {
     "name": "stdout",
     "output_type": "stream",
     "text": [
      "<class 'dict'>\n"
     ]
    }
   ],
   "source": [
    "print (type(prices))"
   ]
  },
  {
   "cell_type": "code",
   "execution_count": 4,
   "metadata": {},
   "outputs": [
    {
     "name": "stdout",
     "output_type": "stream",
     "text": [
      "dict_keys(['mango', 'banana', 'pineapple'])\n"
     ]
    }
   ],
   "source": [
    "print (prices.keys())"
   ]
  },
  {
   "cell_type": "code",
   "execution_count": 5,
   "metadata": {},
   "outputs": [
    {
     "name": "stdout",
     "output_type": "stream",
     "text": [
      "dict_keys(['mango', 'banana', 'pineapple'])\n"
     ]
    }
   ],
   "source": [
    "print (prices.keys())"
   ]
  },
  {
   "cell_type": "code",
   "execution_count": 6,
   "metadata": {},
   "outputs": [
    {
     "name": "stdout",
     "output_type": "stream",
     "text": [
      "dict_values([100, [10, 20], 200])\n"
     ]
    }
   ],
   "source": [
    "print (prices.values())"
   ]
  },
  {
   "cell_type": "code",
   "execution_count": 7,
   "metadata": {},
   "outputs": [
    {
     "data": {
      "text/plain": [
       "[10, 20]"
      ]
     },
     "execution_count": 7,
     "metadata": {},
     "output_type": "execute_result"
    }
   ],
   "source": [
    "prices = {\n",
    "    \"mango\":110,\n",
    "    \"apple\":[10,20],\n",
    "    \"banana\":200\n",
    "}\n",
    "prices['apple']"
   ]
  },
  {
   "cell_type": "code",
   "execution_count": 8,
   "metadata": {},
   "outputs": [
    {
     "name": "stdout",
     "output_type": "stream",
     "text": [
      "dict_values([110, [10, 20], 200])\n"
     ]
    }
   ],
   "source": [
    "print(prices.values())"
   ]
  },
  {
   "cell_type": "code",
   "execution_count": 9,
   "metadata": {},
   "outputs": [
    {
     "data": {
      "text/plain": [
       "[10, 20]"
      ]
     },
     "execution_count": 9,
     "metadata": {},
     "output_type": "execute_result"
    }
   ],
   "source": [
    "prices[\"apple\"]"
   ]
  },
  {
   "cell_type": "code",
   "execution_count": 10,
   "metadata": {},
   "outputs": [
    {
     "data": {
      "text/plain": [
       "110"
      ]
     },
     "execution_count": 10,
     "metadata": {},
     "output_type": "execute_result"
    }
   ],
   "source": [
    "prices[\"mango\"]"
   ]
  },
  {
   "cell_type": "code",
   "execution_count": 11,
   "metadata": {},
   "outputs": [
    {
     "data": {
      "text/plain": [
       "10"
      ]
     },
     "execution_count": 11,
     "metadata": {},
     "output_type": "execute_result"
    }
   ],
   "source": [
    "prices[\"apple\"][0]"
   ]
  },
  {
   "cell_type": "code",
   "execution_count": 12,
   "metadata": {},
   "outputs": [
    {
     "data": {
      "text/plain": [
       "{'apple': [10, 20], 'banana': 200, 'mango': 110}"
      ]
     },
     "execution_count": 12,
     "metadata": {},
     "output_type": "execute_result"
    }
   ],
   "source": [
    "prices"
   ]
  },
  {
   "cell_type": "code",
   "execution_count": 13,
   "metadata": {},
   "outputs": [
    {
     "data": {
      "text/plain": [
       "[1, 2, 3, 4, 5, 6]"
      ]
     },
     "execution_count": 13,
     "metadata": {},
     "output_type": "execute_result"
    }
   ],
   "source": [
    "prices = {\n",
    "    \"mango\":['sarthak','priyanka',11],\n",
    "    \"apple\":[10,20]\n",
    "}\n",
    "\n",
    "prices.values()\n",
    "list(range(1,7,1))\n"
   ]
  },
  {
   "cell_type": "code",
   "execution_count": 14,
   "metadata": {},
   "outputs": [
    {
     "data": {
      "text/plain": [
       "[-22, 1, 4.2, 11]"
      ]
     },
     "execution_count": 14,
     "metadata": {},
     "output_type": "execute_result"
    }
   ],
   "source": [
    "a = [4.2,1,11,-22]\n",
    "a = sorted(a)\n",
    "a"
   ]
  },
  {
   "cell_type": "code",
   "execution_count": 15,
   "metadata": {},
   "outputs": [
    {
     "data": {
      "text/plain": [
       "2.0"
      ]
     },
     "execution_count": 15,
     "metadata": {},
     "output_type": "execute_result"
    }
   ],
   "source": [
    "import math\n",
    "\n",
    "math.log10(100)"
   ]
  },
  {
   "cell_type": "code",
   "execution_count": 16,
   "metadata": {},
   "outputs": [
    {
     "data": {
      "text/plain": [
       "10.0"
      ]
     },
     "execution_count": 16,
     "metadata": {},
     "output_type": "execute_result"
    }
   ],
   "source": [
    "from math import sqrt as sq\n",
    "\n",
    "sq(100)"
   ]
  },
  {
   "cell_type": "code",
   "execution_count": 17,
   "metadata": {},
   "outputs": [
    {
     "data": {
      "text/plain": [
       "array([[ 2.,  0.,  0.,  0.],\n",
       "       [ 3.,  3.,  3.,  3.],\n",
       "       [ 2.,  0.,  0.,  0.],\n",
       "       [ 2.,  0.,  0.,  0.]])"
      ]
     },
     "execution_count": 17,
     "metadata": {},
     "output_type": "execute_result"
    }
   ],
   "source": [
    "import numpy as np\n",
    "from matplotlib import pyplot as plt\n",
    "%matplotlib inline \n",
    "\n",
    "ar = np.array([1,2,3])\n",
    "# numpy arrays are of fixed size , it is not dynamic\n",
    "type(ar)\n",
    "\n",
    "a = np.zeros((4,4))\n",
    "a\n",
    "a[: ,0]=2\n",
    "a\n",
    "\n",
    "a[1, : ] =3\n",
    "a"
   ]
  },
  {
   "cell_type": "code",
   "execution_count": 19,
   "metadata": {},
   "outputs": [
    {
     "data": {
      "text/plain": [
       "7"
      ]
     },
     "execution_count": 19,
     "metadata": {},
     "output_type": "execute_result"
    }
   ],
   "source": [
    "#unique and argmax\n",
    "\n",
    "a = np.array([4,1,7,7,7,7,1])\n",
    "\n",
    "b = np.unique(a,return_counts=True)  #returns tuple of unique occurring elements in array with their counts\n",
    "\n",
    "b\n",
    "idx = b[1].argmax()   # returns index of element with highest count\n",
    "b[0][idx]            # returns element with highest count"
   ]
  },
  {
   "cell_type": "code",
   "execution_count": 20,
   "metadata": {
    "scrolled": true
   },
   "outputs": [
    {
     "data": {
      "image/png": "[encoded data removed]",
      "text/plain": [
       "<matplotlib.figure.Figure at 0x1f5969dfba8>"
      ]
     },
     "metadata": {},
     "output_type": "display_data"
    },
    {
     "data": {
      "image/png": "[encoded data removed]",
      "text/plain": [
       "<matplotlib.figure.Figure at 0x1f596a0f080>"
      ]
     },
     "metadata": {},
     "output_type": "display_data"
    }
   ],
   "source": [
    "from jupyterthemes import jtplot\n",
    "jtplot.style()\n",
    "a = np.array(list(range(1,100)))\n",
    "plt.figure(0)   # plt.figure(0) describes the 0th figure \n",
    "plt.plot(a)\n",
    "\n",
    "plt.figure(1)\n",
    "plt.plot(a**2,color='green')\n",
    "plt.plot(a**3,color='red')\n",
    "plt.show()"
   ]
  },
  {
   "cell_type": "code",
   "execution_count": 21,
   "metadata": {},
   "outputs": [
    {
     "name": "stdout",
     "output_type": "stream",
     "text": [
      "(100, 2)\n"
     ]
    },
    {
     "data": {
      "text/plain": [
       "<matplotlib.collections.PathCollection at 0x1f596bc9a20>"
      ]
     },
     "execution_count": 21,
     "metadata": {},
     "output_type": "execute_result"
    },
    {
     "data": {
      "image/png": "[encoded data removed]",
      "text/plain": [
       "<matplotlib.figure.Figure at 0x1f5941080b8>"
      ]
     },
     "metadata": {},
     "output_type": "display_data"
    }
   ],
   "source": [
    "a = np.random.random((100,2))  # random function generates random number b/w 0 and 1\n",
    "                         # np.random generates a random array of given size\n",
    "\n",
    "print (a.shape)\n",
    "a\n",
    "\n",
    "plt.figure(0)\n",
    "#plt.scatter(1,2)    #plot only one point\n",
    "plt.scatter(a[:, 0],a[:, 1],color='yellow')  # this means x is 0th column of all rows and y is 1st column of all rows"
   ]
  },
  {
   "cell_type": "code",
   "execution_count": 22,
   "metadata": {},
   "outputs": [
    {
     "data": {
      "image/png": "[encoded data removed]",
      "text/plain": [
       "<matplotlib.figure.Figure at 0x1f596bf5518>"
      ]
     },
     "metadata": {},
     "output_type": "display_data"
    }
   ],
   "source": [
    "mean_01 = np.array([3.0,4.0])\n",
    "mean_02 = np.array([0.0,0.0])\n",
    "# 2-D identity matrix below \n",
    "cov_01 = np.array([[1.0,-0.5],[-0.5,1.0]])\n",
    "cov_02 = np.array([[1.0,0.5],[0.5,0.6]])\n",
    "\n",
    "# below is the distribution function using mean_01 and cov_01 having 200 points that is generating a sample data set of \n",
    "#200 pts\n",
    "dis_01 = np.random.multivariate_normal(mean_01,cov_01,200)\n",
    "dis_02 = np.random.multivariate_normal(mean_02,cov_02,200)\n",
    "#dis_01.shape\n",
    "#plt.plot(dis_01)\n",
    "for x in range(dis_01.shape[0]):\n",
    "    plt.scatter(dis_01[x,0],dis_01[x,1],color='red')\n",
    "    plt.scatter(dis_02[x,0],dis_02[x,1],color='yellow')"
   ]
  },
  {
   "cell_type": "code",
   "execution_count": 25,
   "metadata": {},
   "outputs": [],
   "source": [
    "    labels = np.zeros((400,1))\n",
    "    labels[200 :] = 1.0\n",
    "    \n",
    "    x_data_set = np.zeros((400,2))\n",
    "    x_data_set[:200, : ] = dis_01\n",
    "    x_data_set[200 :,: ] = dis_02\n",
    "    \n",
    "    #x_data_set\n",
    "    #labels"
   ]
  },
  {
   "cell_type": "code",
   "execution_count": 26,
   "metadata": {},
   "outputs": [],
   "source": [
    "# KNN Algorithm\n",
    "\n",
    "# first step : distance of the query points to all other points in the space O(N) for every point + sorting \n",
    "# for Q query points the complexity becomes O(Q*N)\n",
    "\n",
    "\n",
    "# Euclidean Distance \n",
    "def dist(x1,x2):\n",
    "    return np.sqrt(((x1-x2)**2).sum())\n",
    "\n",
    "x1 = np.array([0.0,0.0])\n",
    "x2 = np.array([1.0,1.0])\n",
    "\n",
    "#dist(x1,x2)\n",
    "\n"
   ]
  },
  {
   "cell_type": "code",
   "execution_count": 27,
   "metadata": {},
   "outputs": [
    {
     "data": {
      "text/plain": [
       "1.0"
      ]
     },
     "execution_count": 27,
     "metadata": {},
     "output_type": "execute_result"
    }
   ],
   "source": [
    "# defining KNN \n",
    "# x_train_data : defines the training data set --> they define the color and sweetness of the item   \n",
    "# query_point : defines the query \n",
    "# label_y_train : defines whether the given is apple or lemon\n",
    "# k : defines the number of nearest neighbours to be looked in order to predict the item\n",
    "# NOTE : k must always be odd and it should be never be either too high or too low\n",
    "def knn(x_train_data,query_point,label_y_train,k=5):\n",
    "    vals = []   # this array contains information of distance of query_point with all the other points\n",
    "    \n",
    "    for ix in range(x_train_data.shape[0]):\n",
    "        v = [dist(query_point,x_train_data[ix, : ]), label_y_train[ix]]\n",
    "        vals.append(v)\n",
    "        \n",
    "    # vals is a list containing distances and labels\n",
    "    # we are sorting the vals array bcoz we want k nearest neightbours from the query_point\n",
    "    updated_vals = sorted(vals)\n",
    "    pred_arr = np.array(updated_vals[:k])\n",
    "    #print (pred_arr)\n",
    "    pred_arr = np.unique(pred_arr[:,1],return_counts = True)\n",
    "    index = pred_arr[1].argmax()\n",
    "    return pred_arr[0][index]\n",
    "        \n",
    "q = np.array([0.0,3.0])   # query point      \n",
    "knn(x_data_set,q,labels)"
   ]
  },
  {
   "cell_type": "code",
   "execution_count": 28,
   "metadata": {},
   "outputs": [
    {
     "name": "stdout",
     "output_type": "stream",
     "text": [
      "(42000, 785)\n",
      "(42000, 785)\n"
     ]
    }
   ],
   "source": [
    "import pandas as pd\n",
    "ds = pd.read_csv('D:/uc browser/MachineLearning/TrainingDataSet/train.csv')\n",
    "# train.csv is mnist dataset of handwritten digits such that it contain each digit is stored as 28x28\n",
    "# matrix which are compressed to 784(28*28) pixels/columns.\n",
    "# Also the dataset consists of 42000 rows with each row consisting of 785 columns where 0th column \n",
    "# represents the label(i.e what number that row actually represents) and rest 784 columns store the \n",
    "# 28x28 matrix data of handwritten digits \n",
    "print (ds.shape)\n",
    "\n",
    "data = ds.values\n",
    "print (data.shape)"
   ]
  },
  {
   "cell_type": "code",
   "execution_count": 33,
   "metadata": {},
   "outputs": [
    {
     "name": "stdout",
     "output_type": "stream",
     "text": [
      "(42000,) (42000, 784)\n",
      "8\n"
     ]
    },
    {
     "data": {
      "image/png": "[encoded data removed]",
      "text/plain": [
       "<matplotlib.figure.Figure at 0x1f59799ceb8>"
      ]
     },
     "metadata": {},
     "output_type": "display_data"
    }
   ],
   "source": [
    "y_train = data[:,0]   # this is the label part which tell which digit in the pics is\n",
    "x_train = data[:,1:]  # this is the feature vector which stores information about each digit's shape \n",
    "print (y_train.shape,x_train.shape) \n",
    "\n",
    "plt.figure(0)\n",
    "idx = 1204  # 1204th index in train.csv file\n",
    "print (y_train[idx])    # label stored at 1204th location\n",
    "plt.imshow(x_train[idx].reshape((28,28)),cmap = 'gray') # reshaping the label stored at 1204th location \n",
    "# to a 28*28 matrix to get its actual shape\n",
    "plt.show()"
   ]
  },
  {
   "cell_type": "code",
   "execution_count": 37,
   "metadata": {},
   "outputs": [
    {
     "name": "stdout",
     "output_type": "stream",
     "text": [
      "((array([ 1.,  4.,  9.]), array([2, 1, 4], dtype=int64)), 9.0)\n",
      "4\n"
     ]
    },
    {
     "data": {
      "image/png": "[encoded data removed]",
      "text/plain": [
       "<matplotlib.figure.Figure at 0x1f5979f00f0>"
      ]
     },
     "metadata": {},
     "output_type": "display_data"
    }
   ],
   "source": [
    "# dist(x1,x2) calculate the euclidean distance b/w two variables\n",
    "def dist(x1,x2):\n",
    "    return np.sqrt(((x1-x2)**2).sum())\n",
    "\n",
    "def KNN(x_train_data,query_point,label_y_train,k=7):\n",
    "    vals = []\n",
    "    \n",
    "    for ix in range(x_train_data.shape[0]):\n",
    "        v = [dist(query_point,x_train_data[ix, :]),label_y_train[ix]]\n",
    "        vals.append(v)\n",
    "        \n",
    "        \n",
    "    updated_vals = sorted(vals,key=lambda x : x[0]) # lambda x[0] means sorting on the basis of euclidean \n",
    "    # distance\n",
    "    pred_ar = np.array(updated_vals[:k]) # selecting first k entries from sorted array\n",
    "    \n",
    "    # selecting only unique entries along with their counts\n",
    "    # NOTE: Here [;,1] means using the label column for calculating the count\n",
    "    pred_ar = np.unique(pred_ar[:,1],return_counts=True)\n",
    "    \n",
    "    # storing the index of the entry with maximum count\n",
    "    pred_idx = pred_ar[1].argmax()\n",
    "    \n",
    "    # returning the pred_ar array which represents the label and its count, and returning the label of \n",
    "    # index with maximum count i.e. pred_ar[0][pred_idx]\n",
    "    return pred_ar,pred_ar[0][pred_idx]\n",
    "\n",
    "\n",
    "iq = int(np.random.random()*x_train.shape[0])  # randomly picks up an index from the training dataset\n",
    "query_point = x_train[iq] # query point containing 784 columns of information about the digit stored \n",
    "# at iq location \n",
    "\n",
    "# we are testing the query_point against the first 10000 entries of the training dataset\n",
    "res = KNN(x_train[:1000],query_point,y_train[:1000])\n",
    "\n",
    "print (res)\n",
    "\n",
    "print (y_train[iq])\n",
    "\n",
    "plt.figure(0)\n",
    "plt.imshow(query_point.reshape((28,28)),cmap='gray')\n",
    "plt.show()"
   ]
  },
  {
   "cell_type": "code",
   "execution_count": 111,
   "metadata": {},
   "outputs": [
    {
     "name": "stdout",
     "output_type": "stream",
     "text": [
      "sann\n"
     ]
    }
   ],
   "source": []
  }
 ],
 "metadata": {
  "kernelspec": {
   "display_name": "Python 3",
   "language": "python",
   "name": "python3"
  },
  "language_info": {
   "codemirror_mode": {
    "name": "ipython",
    "version": 3
   },
   "file_extension": ".py",
   "mimetype": "text/x-python",
   "name": "python",
   "nbconvert_exporter": "python",
   "pygments_lexer": "ipython3",
   "version": "3.6.1"
  }
 },
 "nbformat": 4,
 "nbformat_minor": 2
}
