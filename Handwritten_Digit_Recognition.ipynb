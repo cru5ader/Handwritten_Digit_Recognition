{
 "cells": [
  {
   "cell_type": "code",
   "execution_count": 10,
   "metadata": {},
   "outputs": [
    {
     "name": "stdout",
     "output_type": "stream",
     "text": [
      "(42000, 785)\n",
      "(42000, 785)\n"
     ]
    }
   ],
   "source": [
    "import numpy as np\n",
    "from matplotlib import pyplot as plt\n",
    "%matplotlib inline \n",
    "\n",
    "import pandas as pd\n",
    "ds = pd.read_csv('./train.csv')\n",
    "# train.csv is mnist dataset of handwritten digits such that it contains each digit stored as 28x28\n",
    "# matrix which are compressed to 784(28*28) columns.\n",
    "# Also the dataset consists of 42000 rows with each row consisting of 785 columns where 0th column \n",
    "# represents the label(i.e what number that row actually represents) and rest 784 columns store the \n",
    "# 28x28 matrix data of handwritten digits \n",
    "print (ds.shape)\n",
    "\n",
    "data = ds.values\n",
    "print (data.shape)"
   ]
  },
  {
   "cell_type": "code",
   "execution_count": 11,
   "metadata": {},
   "outputs": [
    {
     "name": "stdout",
     "output_type": "stream",
     "text": [
      "(42000,) (42000, 784)\n",
      "8\n"
     ]
    },
    {
     "data": {
      "image/png": "[encoded data removed]",
      "text/plain": [
       "<matplotlib.figure.Figure at 0x1f72b9f2518>"
      ]
     },
     "metadata": {},
     "output_type": "display_data"
    }
   ],
   "source": [
    "y_train = data[:,0]   # this is the label part which tell which digit in the pics is\n",
    "x_train = data[:,1:]  # this is the feature vector which stores information about each digit's shape \n",
    "print (y_train.shape,x_train.shape) \n",
    "\n",
    "plt.figure(0)\n",
    "idx = 1204  # 1204th index in train.csv file\n",
    "print (y_train[idx])    # label stored at 1204th location\n",
    "plt.imshow(x_train[idx].reshape((28,28)),cmap = 'gray') # reshaping the label stored at 1204th location \n",
    "# to a 28*28 matrix to get its actual shape\n",
    "plt.show()"
   ]
  },
  {
   "cell_type": "code",
   "execution_count": 14,
   "metadata": {},
   "outputs": [
    {
     "name": "stdout",
     "output_type": "stream",
     "text": [
      "((array([ 6.]), array([7], dtype=int64)), 6.0)\n",
      "6\n"
     ]
    },
    {
     "data": {
      "image/png": "[encoded data removed]",
      "text/plain": [
       "<matplotlib.figure.Figure at 0x1f72b9df160>"
      ]
     },
     "metadata": {},
     "output_type": "display_data"
    }
   ],
   "source": [
    "# dist(x1,x2) calculate the euclidean distance b/w two variables\n",
    "def dist(x1,x2):\n",
    "    return np.sqrt(((x1-x2)**2).sum())\n",
    "\n",
    "def KNN(x_train_data,query_point,label_y_train,k=7):\n",
    "    vals = []\n",
    "    \n",
    "    for ix in range(x_train_data.shape[0]):\n",
    "        v = [dist(query_point,x_train_data[ix, :]),label_y_train[ix]]\n",
    "        vals.append(v)\n",
    "        \n",
    "        \n",
    "    updated_vals = sorted(vals,key=lambda x : x[0]) # lambda x[0] means sorting on the basis of euclidean \n",
    "    # distance\n",
    "    pred_ar = np.array(updated_vals[:k]) # selecting first k entries from sorted array\n",
    "    \n",
    "    # selecting only unique entries along with their counts\n",
    "    # NOTE: Here [;,1] means using the label column for calculating the count\n",
    "    pred_ar = np.unique(pred_ar[:,1],return_counts=True)\n",
    "    \n",
    "    # storing the index of the entry with maximum count\n",
    "    pred_idx = pred_ar[1].argmax()\n",
    "    \n",
    "    # returning the pred_ar array which represents the label and its count, and returning the label of \n",
    "    # index with maximum count i.e. pred_ar[0][pred_idx]\n",
    "    return pred_ar,pred_ar[0][pred_idx]\n",
    "\n",
    "\n",
    "iq = int(np.random.random()*x_train.shape[0])  # randomly picks up an index from the training dataset\n",
    "query_point = x_train[iq] # query point containing 784 columns of information about the digit stored \n",
    "# at iq location \n",
    "\n",
    "# we are testing the query_point against the first 10000 entries of the training dataset\n",
    "res = KNN(x_train[:1000],query_point,y_train[:1000])\n",
    "\n",
    "print (res)\n",
    "\n",
    "print (y_train[iq])\n",
    "\n",
    "plt.figure(0)\n",
    "plt.imshow(query_point.reshape((28,28)),cmap='gray')\n",
    "plt.show()"
   ]
  }
 ],
 "metadata": {
  "kernelspec": {
   "display_name": "Python 3",
   "language": "python",
   "name": "python3"
  },
  "language_info": {
   "codemirror_mode": {
    "name": "ipython",
    "version": 3
   },
   "file_extension": ".py",
   "mimetype": "text/x-python",
   "name": "python",
   "nbconvert_exporter": "python",
   "pygments_lexer": "ipython3",
   "version": "3.6.1"
  }
 },
 "nbformat": 4,
 "nbformat_minor": 2
}
